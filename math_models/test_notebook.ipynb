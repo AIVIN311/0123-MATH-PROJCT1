{
 "cells": [
  {
   "cell_type": "code",
   "execution_count": 1,
   "id": "816371ff-a22e-4b23-a8a5-273e0232037a",
   "metadata": {},
   "outputs": [
    {
     "name": "stdout",
     "output_type": "stream",
     "text": [
      "Jupyter Notebook 測試成功！\n"
     ]
    }
   ],
   "source": [
    "import numpy as np\n",
    "import matplotlib.pyplot as plt\n",
    "print(\"Jupyter Notebook 測試成功！\")\n"
   ]
  },
  {
   "cell_type": "code",
   "execution_count": null,
   "id": "f7544259-72d6-478d-9713-a39a90a301b9",
   "metadata": {},
   "outputs": [],
   "source": []
  },
  {
   "cell_type": "code",
   "execution_count": null,
   "id": "f2129cbe-2563-4545-b2be-55fd4cdf7566",
   "metadata": {},
   "outputs": [],
   "source": []
  }
 ],
 "metadata": {
  "kernelspec": {
   "display_name": "Python 3 (ipykernel)",
   "language": "python",
   "name": "python3"
  },
  "language_info": {
   "codemirror_mode": {
    "name": "ipython",
    "version": 3
   },
   "file_extension": ".py",
   "mimetype": "text/x-python",
   "name": "python",
   "nbconvert_exporter": "python",
   "pygments_lexer": "ipython3",
   "version": "3.13.2"
  }
 },
 "nbformat": 4,
 "nbformat_minor": 5
}
